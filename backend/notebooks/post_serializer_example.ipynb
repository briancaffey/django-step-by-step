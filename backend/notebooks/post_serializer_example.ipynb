{
 "cells": [
  {
   "cell_type": "markdown",
   "id": "loose-dependence",
   "metadata": {},
   "source": [
    "## Using Serializers"
   ]
  },
  {
   "cell_type": "code",
   "execution_count": 1,
   "id": "disturbed-rabbit",
   "metadata": {},
   "outputs": [
    {
     "name": "stdout",
     "output_type": "stream",
     "text": [
      "env: DJANGO_ALLOW_ASYNC_UNSAFE=true\n"
     ]
    }
   ],
   "source": [
    "%env DJANGO_ALLOW_ASYNC_UNSAFE=true"
   ]
  },
  {
   "cell_type": "code",
   "execution_count": 9,
   "id": "polish-rwanda",
   "metadata": {},
   "outputs": [],
   "source": [
    "from django.contrib.auth import get_user_model\n",
    "\n",
    "from apps.blog.serializers import PostSerializer\n",
    "from apps.blog.models import Post\n",
    "\n",
    "User = get_user_model()"
   ]
  },
  {
   "cell_type": "code",
   "execution_count": 10,
   "id": "broken-sauce",
   "metadata": {},
   "outputs": [
    {
     "name": "stdout",
     "output_type": "stream",
     "text": [
      "<class 'apps.blog.serializers.PostSerializer'>\n"
     ]
    }
   ],
   "source": [
    "print(repr(PostSerializer))"
   ]
  },
  {
   "cell_type": "code",
   "execution_count": 11,
   "id": "alien-house",
   "metadata": {},
   "outputs": [],
   "source": [
    "post = Post.objects.with_like_info(user=User.objects.first()).all().first()"
   ]
  },
  {
   "cell_type": "code",
   "execution_count": 12,
   "id": "welsh-legislation",
   "metadata": {},
   "outputs": [],
   "source": [
    "serializer = PostSerializer(post)"
   ]
  },
  {
   "cell_type": "code",
   "execution_count": 13,
   "id": "median-gambling",
   "metadata": {},
   "outputs": [
    {
     "data": {
      "text/plain": [
       "PostSerializer(<Post: oijoijoij>):\n",
       "    id = IntegerField(label='ID', read_only=True)\n",
       "    body = CharField(max_length=200)\n",
       "    created_by = CustomUserSerializer():\n",
       "        email = EmailField(label='Email address', max_length=254, validators=[<UniqueValidator(queryset=CustomUser.objects.all())>])\n",
       "        id = IntegerField(label='ID', read_only=True)\n",
       "    modified_on = DateTimeField(read_only=True)\n",
       "    liked = BooleanField(read_only=True)\n",
       "    like_count = IntegerField(read_only=True)"
      ]
     },
     "execution_count": 13,
     "metadata": {},
     "output_type": "execute_result"
    }
   ],
   "source": [
    "serializer"
   ]
  },
  {
   "cell_type": "code",
   "execution_count": 14,
   "id": "municipal-training",
   "metadata": {},
   "outputs": [
    {
     "data": {
      "text/plain": [
       "{'id': 150, 'body': 'oijoijoij', 'created_by': OrderedDict([('email', 'user@email.com'), ('id', 1)]), 'modified_on': '2021-04-05T21:46:21.497074Z', 'liked': True, 'like_count': 1}"
      ]
     },
     "execution_count": 14,
     "metadata": {},
     "output_type": "execute_result"
    }
   ],
   "source": [
    "serializer.data"
   ]
  },
  {
   "cell_type": "code",
   "execution_count": 15,
   "id": "compact-acoustic",
   "metadata": {},
   "outputs": [],
   "source": [
    "new_post_data = {\"body\": \"this post will be created using a serializer\"}\n",
    "new_post = PostSerializer(data=new_post_data)"
   ]
  },
  {
   "cell_type": "code",
   "execution_count": 16,
   "id": "architectural-recycling",
   "metadata": {},
   "outputs": [],
   "source": [
    "if new_post.is_valid():\n",
    "    post = new_post.save()"
   ]
  },
  {
   "cell_type": "code",
   "execution_count": 17,
   "id": "informal-baseball",
   "metadata": {},
   "outputs": [
    {
     "name": "stdout",
     "output_type": "stream",
     "text": [
      "150\n"
     ]
    }
   ],
   "source": [
    "print(post.id)"
   ]
  },
  {
   "cell_type": "code",
   "execution_count": null,
   "id": "unique-manhattan",
   "metadata": {},
   "outputs": [],
   "source": []
  }
 ],
 "metadata": {
  "kernelspec": {
   "display_name": "Django Shell-Plus",
   "language": "python",
   "name": "django_extensions"
  },
  "language_info": {
   "codemirror_mode": {
    "name": "ipython",
    "version": 3
   },
   "file_extension": ".py",
   "mimetype": "text/x-python",
   "name": "python",
   "nbconvert_exporter": "python",
   "pygments_lexer": "ipython3",
   "version": "3.8.7"
  }
 },
 "nbformat": 4,
 "nbformat_minor": 5
}
