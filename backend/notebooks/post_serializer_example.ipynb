{
 "cells": [
  {
   "cell_type": "markdown",
   "id": "loose-dependence",
   "metadata": {},
   "source": [
    "## Using Serializers"
   ]
  },
  {
   "cell_type": "code",
   "execution_count": 4,
   "id": "disturbed-rabbit",
   "metadata": {},
   "outputs": [
    {
     "name": "stdout",
     "output_type": "stream",
     "text": [
      "env: DJANGO_ALLOW_ASYNC_UNSAFE=true\n"
     ]
    }
   ],
   "source": [
    "%env DJANGO_ALLOW_ASYNC_UNSAFE=true"
   ]
  },
  {
   "cell_type": "code",
   "execution_count": 5,
   "id": "polish-rwanda",
   "metadata": {},
   "outputs": [],
   "source": [
    "from apps.blog.serializers import PostSerializer\n",
    "from apps.blog.models import Post"
   ]
  },
  {
   "cell_type": "code",
   "execution_count": 21,
   "id": "broken-sauce",
   "metadata": {},
   "outputs": [
    {
     "name": "stdout",
     "output_type": "stream",
     "text": [
      "<class 'apps.blog.serializers.PostSerializer'>\n"
     ]
    }
   ],
   "source": [
    "print(repr(PostSerializer))"
   ]
  },
  {
   "cell_type": "code",
   "execution_count": 6,
   "id": "alien-house",
   "metadata": {},
   "outputs": [],
   "source": [
    "post = Post.objects.all().first()"
   ]
  },
  {
   "cell_type": "code",
   "execution_count": 7,
   "id": "welsh-legislation",
   "metadata": {},
   "outputs": [],
   "source": [
    "serializer = PostSerializer(post)"
   ]
  },
  {
   "cell_type": "code",
   "execution_count": 8,
   "id": "median-gambling",
   "metadata": {},
   "outputs": [
    {
     "data": {
      "text/plain": [
       "PostSerializer(<Post: hhhhh>):\n",
       "    body = CharField(max_length=200)\n",
       "    id = IntegerField(label='ID', read_only=True)\n",
       "    created_by = PrimaryKeyRelatedField(read_only=True)\n",
       "    modified_on = DateTimeField(read_only=True)"
      ]
     },
     "execution_count": 8,
     "metadata": {},
     "output_type": "execute_result"
    }
   ],
   "source": [
    "serializer"
   ]
  },
  {
   "cell_type": "code",
   "execution_count": 9,
   "id": "municipal-training",
   "metadata": {},
   "outputs": [
    {
     "data": {
      "text/plain": [
       "{'body': 'hhhhh', 'id': 146, 'created_by': 1, 'modified_on': '2021-04-05T02:33:32.888560Z'}"
      ]
     },
     "execution_count": 9,
     "metadata": {},
     "output_type": "execute_result"
    }
   ],
   "source": [
    "serializer.data"
   ]
  },
  {
   "cell_type": "code",
   "execution_count": 18,
   "id": "compact-acoustic",
   "metadata": {},
   "outputs": [],
   "source": [
    "new_post_data = {\"body\": \"this post will be created using a serializer\"}\n",
    "new_post = PostSerializer(data=new_post_data)"
   ]
  },
  {
   "cell_type": "code",
   "execution_count": 19,
   "id": "architectural-recycling",
   "metadata": {},
   "outputs": [],
   "source": [
    "if new_post.is_valid():\n",
    "    post = new_post.save()"
   ]
  },
  {
   "cell_type": "code",
   "execution_count": 20,
   "id": "informal-baseball",
   "metadata": {},
   "outputs": [
    {
     "name": "stdout",
     "output_type": "stream",
     "text": [
      "149\n"
     ]
    }
   ],
   "source": [
    "print(post.id)"
   ]
  }
 ],
 "metadata": {
  "kernelspec": {
   "display_name": "Django Shell-Plus",
   "language": "python",
   "name": "django_extensions"
  },
  "language_info": {
   "codemirror_mode": {
    "name": "ipython",
    "version": 3
   },
   "file_extension": ".py",
   "mimetype": "text/x-python",
   "name": "python",
   "nbconvert_exporter": "python",
   "pygments_lexer": "ipython3",
   "version": "3.8.7"
  }
 },
 "nbformat": 4,
 "nbformat_minor": 5
}
