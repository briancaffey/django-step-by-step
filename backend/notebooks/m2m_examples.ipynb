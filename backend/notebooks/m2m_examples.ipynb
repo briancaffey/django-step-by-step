{
 "cells": [
  {
   "cell_type": "code",
   "execution_count": 1,
   "id": "virtual-intranet",
   "metadata": {},
   "outputs": [
    {
     "name": "stdout",
     "output_type": "stream",
     "text": [
      "env: DJANGO_ALLOW_ASYNC_UNSAFE=true\n"
     ]
    }
   ],
   "source": [
    "%env DJANGO_ALLOW_ASYNC_UNSAFE=true\n",
    "from django.contrib.auth import get_user_model\n",
    "User = get_user_model()"
   ]
  },
  {
   "cell_type": "code",
   "execution_count": 2,
   "id": "legitimate-webmaster",
   "metadata": {},
   "outputs": [],
   "source": [
    "from apps.blog.models import Post, PostLike\n",
    "from apps.blog.factory import PostFactory"
   ]
  },
  {
   "cell_type": "code",
   "execution_count": 4,
   "id": "military-speed",
   "metadata": {},
   "outputs": [],
   "source": [
    "u1 = User.objects.create(email=\"abc1@123.com\", password=\"qwer1234!\")"
   ]
  },
  {
   "cell_type": "code",
   "execution_count": 5,
   "id": "stylish-flash",
   "metadata": {},
   "outputs": [],
   "source": [
    "post1 = PostFactory(body=\"My first postoij\", created_by=u1)"
   ]
  },
  {
   "cell_type": "code",
   "execution_count": 6,
   "id": "involved-webster",
   "metadata": {},
   "outputs": [],
   "source": [
    "u1_like_post1 = PostLike(liked_by=u1, post=post1)"
   ]
  },
  {
   "cell_type": "code",
   "execution_count": 7,
   "id": "destroyed-identifier",
   "metadata": {},
   "outputs": [],
   "source": [
    "u1_like_post1.save()"
   ]
  },
  {
   "cell_type": "code",
   "execution_count": 8,
   "id": "occupational-flower",
   "metadata": {},
   "outputs": [
    {
     "data": {
      "text/plain": [
       "<QuerySet [<CustomUser: abc1@123.com>]>"
      ]
     },
     "execution_count": 8,
     "metadata": {},
     "output_type": "execute_result"
    }
   ],
   "source": [
    "post1.likes.all()"
   ]
  },
  {
   "cell_type": "code",
   "execution_count": 9,
   "id": "romantic-valley",
   "metadata": {},
   "outputs": [],
   "source": [
    "u1_like_post1_again = PostLike(liked_by=u1, post=post1)"
   ]
  },
  {
   "cell_type": "code",
   "execution_count": 10,
   "id": "clear-bridal",
   "metadata": {},
   "outputs": [],
   "source": [
    "post1.likes.remove(u1)"
   ]
  },
  {
   "cell_type": "code",
   "execution_count": 11,
   "id": "unlike-hampton",
   "metadata": {},
   "outputs": [
    {
     "data": {
      "text/plain": [
       "<QuerySet []>"
      ]
     },
     "execution_count": 11,
     "metadata": {},
     "output_type": "execute_result"
    }
   ],
   "source": [
    "post1.likes.all()"
   ]
  },
  {
   "cell_type": "code",
   "execution_count": null,
   "id": "other-glasgow",
   "metadata": {},
   "outputs": [],
   "source": []
  }
 ],
 "metadata": {
  "kernelspec": {
   "display_name": "Django Shell-Plus",
   "language": "python",
   "name": "django_extensions"
  },
  "language_info": {
   "codemirror_mode": {
    "name": "ipython",
    "version": 3
   },
   "file_extension": ".py",
   "mimetype": "text/x-python",
   "name": "python",
   "nbconvert_exporter": "python",
   "pygments_lexer": "ipython3",
   "version": "3.9.9"
  }
 },
 "nbformat": 4,
 "nbformat_minor": 5
}
