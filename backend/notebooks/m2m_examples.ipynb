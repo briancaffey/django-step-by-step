{
 "cells": [
  {
   "cell_type": "code",
   "execution_count": 16,
   "id": "virtual-intranet",
   "metadata": {},
   "outputs": [
    {
     "name": "stdout",
     "output_type": "stream",
     "text": [
      "env: DJANGO_ALLOW_ASYNC_UNSAFE=true\n"
     ]
    }
   ],
   "source": [
    "%env DJANGO_ALLOW_ASYNC_UNSAFE=true\n",
    "from django.contrib.auth import get_user_model\n",
    "User = get_user_model()"
   ]
  },
  {
   "cell_type": "code",
   "execution_count": 17,
   "id": "legitimate-webmaster",
   "metadata": {},
   "outputs": [],
   "source": [
    "from apps.blog.models import Post, PostLike\n",
    "from apps.blog.factory import PostFactory"
   ]
  },
  {
   "cell_type": "code",
   "execution_count": 18,
   "id": "military-speed",
   "metadata": {},
   "outputs": [],
   "source": [
    "u1 = User.objects.create(email=\"abc1@123.com\", password=\"qwer1234!\")"
   ]
  },
  {
   "cell_type": "code",
   "execution_count": 19,
   "id": "stylish-flash",
   "metadata": {},
   "outputs": [],
   "source": [
    "post1 = PostFactory(body=\"My first postoij\", created_by=u1)"
   ]
  },
  {
   "cell_type": "code",
   "execution_count": 20,
   "id": "involved-webster",
   "metadata": {},
   "outputs": [],
   "source": [
    "u1_like_post1 = PostLike(liked_by=u1, post=post1)"
   ]
  },
  {
   "cell_type": "code",
   "execution_count": 21,
   "id": "destroyed-identifier",
   "metadata": {},
   "outputs": [],
   "source": [
    "u1_like_post1.save()"
   ]
  },
  {
   "cell_type": "code",
   "execution_count": 22,
   "id": "occupational-flower",
   "metadata": {},
   "outputs": [
    {
     "data": {
      "text/plain": [
       "<QuerySet [<CustomUser: abc1@123.com>]>"
      ]
     },
     "execution_count": 22,
     "metadata": {},
     "output_type": "execute_result"
    }
   ],
   "source": [
    "post1.likes.all()"
   ]
  },
  {
   "cell_type": "code",
   "execution_count": 23,
   "id": "romantic-valley",
   "metadata": {},
   "outputs": [],
   "source": [
    "u1_like_post1_again = PostLike(liked_by=u1, post=post1)"
   ]
  },
  {
   "cell_type": "code",
   "execution_count": 24,
   "id": "clear-bridal",
   "metadata": {},
   "outputs": [],
   "source": [
    "post1.likes.remove(u1)"
   ]
  },
  {
   "cell_type": "code",
   "execution_count": 25,
   "id": "unlike-hampton",
   "metadata": {},
   "outputs": [
    {
     "data": {
      "text/plain": [
       "<QuerySet []>"
      ]
     },
     "execution_count": 25,
     "metadata": {},
     "output_type": "execute_result"
    }
   ],
   "source": [
    "post1.likes.all()"
   ]
  },
  {
   "cell_type": "code",
   "execution_count": null,
   "id": "other-glasgow",
   "metadata": {},
   "outputs": [],
   "source": []
  }
 ],
 "metadata": {
  "kernelspec": {
   "display_name": "Django Shell-Plus",
   "language": "python",
   "name": "django_extensions"
  },
  "language_info": {
   "codemirror_mode": {
    "name": "ipython",
    "version": 3
   },
   "file_extension": ".py",
   "mimetype": "text/x-python",
   "name": "python",
   "nbconvert_exporter": "python",
   "pygments_lexer": "ipython3",
   "version": "3.8.7"
  }
 },
 "nbformat": 4,
 "nbformat_minor": 5
}
