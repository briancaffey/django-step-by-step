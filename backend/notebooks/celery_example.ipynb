{
 "cells": [
  {
   "cell_type": "code",
   "execution_count": 12,
   "id": "olympic-macro",
   "metadata": {},
   "outputs": [
    {
     "name": "stdout",
     "output_type": "stream",
     "text": [
      "Task ID is: 2459a98b-b683-47e8-8cbd-1113be9c1800\n",
      "Task status is: PENDING\n",
      "Task successful? False\n",
      "Type: <class 'celery.result.AsyncResult'>\n",
      "waiting 2 seconds (the task should have been completed by now)\n",
      "Task successful? False\n",
      "Task status: PENDING\n"
     ]
    }
   ],
   "source": [
    "import time\n",
    "from apps.core.tasks import debug_task\n",
    "\n",
    "# calling `.delay` is what \"posts\" the message to redis (the bulletin board)\n",
    "task = debug_task.delay()\n",
    "\n",
    "print(f\"Task ID is: {task}\")\n",
    "print(f\"Task status is: {task.status}\")\n",
    "print(f\"Task successful? {task.successful()}\")\n",
    "print(f\"Type: {type(task)}\")\n",
    "# print(dir(task))\n",
    "print(\"waiting 2 seconds (the task should have been completed by now)\")\n",
    "time.sleep(2)\n",
    "\n",
    "print(f\"Task successful? {task.successful()}\")\n",
    "print(f\"Task status: {task.status}\")"
   ]
  },
  {
   "cell_type": "code",
   "execution_count": null,
   "id": "dominant-accordance",
   "metadata": {},
   "outputs": [],
   "source": []
  }
 ],
 "metadata": {
  "kernelspec": {
   "display_name": "Django Shell-Plus",
   "language": "python",
   "name": "django_extensions"
  },
  "language_info": {
   "codemirror_mode": {
    "name": "ipython",
    "version": 3
   },
   "file_extension": ".py",
   "mimetype": "text/x-python",
   "name": "python",
   "nbconvert_exporter": "python",
   "pygments_lexer": "ipython3",
   "version": "3.8.5"
  }
 },
 "nbformat": 4,
 "nbformat_minor": 5
}
